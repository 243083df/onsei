{
 "cells": [
  {
   "cell_type": "markdown",
   "id": "df2236cd-5b91-4b01-bb75-69f2b1f830cd",
   "metadata": {},
   "source": [
    "Test your pitch accent accuracy on a sentence\n",
    "==============================================\n",
    "\n",
    "**THIS IS AN EXPERIMENTAL PROJECT, THINGS MAY "
   ]
  },
  {
   "cell_type": "code",
   "execution_count": null,
   "id": "9c959b0a-6e78-4136-b600-c879c194ce54",
   "metadata": {},
   "outputs": [],
   "source": [
    "from onsei import compare\n",
    "from ipywebrtc import AudioRecorder, CameraStream, AudioStream\n",
    "from ipywidgets import Dropdown\n",
    "from IPython.display import Audio\n",
    "import matplotlib as mpl\n",
    "\n",
    "mpl.rcParams['figure.figsize'] = (10,10)\n",
    "\n",
    "camera = CameraStream(constraints={'audio': True, 'video': False})\n",
    "recorder = AudioRecorder(stream=camera)\n",
    "\n",
    "teacher_filename = \"data/ps/ps1_boku_no_chijin-teacher2.wav\"\n",
    "audio = AudioStream.from_file(teacher_filename)"
   ]
  },
  {
   "cell_type": "code",
   "execution_count": null,
   "id": "54d813eb-d8de-411a-a2bf-9c67710533d4",
   "metadata": {},
   "outputs": [],
   "source": [
    "audio"
   ]
  },
  {
   "cell_type": "markdown",
   "id": "b723d9d6-42c4-430f-b4d7-7190bf0d0183",
   "metadata": {},
   "source": [
    "The recording will repeat forever, click pause when you had enough :)"
   ]
  },
  {
   "cell_type": "code",
   "execution_count": null,
   "id": "49a7200c",
   "metadata": {},
   "outputs": [],
   "source": [
    "recorder"
   ]
  },
  {
   "cell_type": "markdown",
   "id": "325cdcfa-b20c-4c7e-b51e-add709a2803d",
   "metadata": {},
   "source": [
    "How to record yourself:\n",
    "- Click the record button on the widget above\n",
    "- wait 1 sec before you start speaking than repeat the teacher's sentence.\n",
    "- wait 1 sec after you are done\n",
    "- Click the stop button"
   ]
  },
  {
   "cell_type": "code",
   "execution_count": null,
   "id": "26680641-eff6-444b-aeaf-98bcf06bf363",
   "metadata": {},
   "outputs": [],
   "source": [
    "recorder.save('test.webm')\n",
    "# convert recording to wav format\n",
    "!ffmpeg -hide_banner -loglevel error -y -i test.webm -ar 48000 -ac 1 test.wav\n",
    "# compare with teacher, show some graphs and compute a distance to evaluate our pitch accuracy\n",
    "distance = compare(teacher_filename, 'test.wav', notebook=True)"
   ]
  },
  {
   "cell_type": "markdown",
   "id": "43ee1759-1f4c-439f-ba82-32cb105a5e63",
   "metadata": {},
   "source": [
    "The last graph shows how different your pitch was compared to the teacher.\n",
    "\n",
    "If some parts of the sentence are higher than others, listen again to the teacher\n",
    "and focus on those part.\n",
    "\n",
    "Once you have identified which word or mora you said with a different pitch,\n",
    "you can re-record and compare yourself again.\n",
    "\n",
    "Good luck !"
   ]
  }
 ],
 "metadata": {
  "kernelspec": {
   "display_name": "Python 3",
   "language": "python",
   "name": "python3"
  },
  "language_info": {
   "codemirror_mode": {
    "name": "ipython",
    "version": 3
   },
   "file_extension": ".py",
   "mimetype": "text/x-python",
   "name": "python",
   "nbconvert_exporter": "python",
   "pygments_lexer": "ipython3",
   "version": "3.9.2"
  }
 },
 "nbformat": 4,
 "nbformat_minor": 5
}
